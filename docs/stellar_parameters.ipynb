{
 "cells": [
  {
   "cell_type": "markdown",
   "id": "false-iraqi",
   "metadata": {},
   "source": [
    "# Stellar Parameter Estimation Using astroPIPS\n",
    "\n",
    "In this example notebook, we will go through an example of using the `astroPIPS` library to estimate the stellar parameters for RR Lyrae stars. As of version 0.3.0 of `astroPIPS`, we only have empirically derived relationships for stellar parameter estimation applying to RRab and RRc variables. "
   ]
  },
  {
   "cell_type": "code",
   "execution_count": 1,
   "id": "czech-isaac",
   "metadata": {},
   "outputs": [],
   "source": [
    "# import astroPIPS\n",
    "\n",
    "import PIPS"
   ]
  },
  {
   "cell_type": "markdown",
   "id": "bored-seafood",
   "metadata": {},
   "source": [
    "Now we need to import our variable star data\n",
    "- Import data from a .dat data file\n",
    "- Create a PIPS.photdata object which we call star"
   ]
  },
  {
   "cell_type": "code",
   "execution_count": 2,
   "id": "advised-pharmacy",
   "metadata": {},
   "outputs": [],
   "source": [
    "data = PIPS.data_readin_LPP('sample_data/002.dat',filter='V')\n",
    "x, y, yerr = data\n",
    "star = PIPS.photdata(data)"
   ]
  },
  {
   "cell_type": "markdown",
   "id": "dedicated-investigation",
   "metadata": {},
   "source": [
    "We now need to estimate the period by running the `get_period` method on our `photdata` object, we choose 5 fourier terms to fit the data with. "
   ]
  },
  {
   "cell_type": "code",
   "execution_count": 3,
   "id": "interior-light",
   "metadata": {},
   "outputs": [
    {
     "name": "stderr",
     "output_type": "stream",
     "text": [
      "/Users/jamessunseri/anaconda3/lib/python3.7/site-packages/scipy/optimize/minpack.py:829: OptimizeWarning: Covariance of the parameters could not be estimated\n",
      "  category=OptimizeWarning)\n",
      "/Users/jamessunseri/anaconda3/lib/python3.7/site-packages/scipy/optimize/minpack.py:829: OptimizeWarning: Covariance of the parameters could not be estimated\n",
      "  category=OptimizeWarning)\n"
     ]
    },
    {
     "name": "stdout",
     "output_type": "stream",
     "text": [
      "The period is 0.5748866247400108 +/- 7.505536469181548e-06 days\n"
     ]
    }
   ],
   "source": [
    "period,err = star.get_period(Nterms=5,multiprocessing=True)\n",
    "\n",
    "print(\"The period is \" + str(period) + \" +/- \" + str(err) + \" days\")"
   ]
  },
  {
   "cell_type": "markdown",
   "id": "civil-horizontal",
   "metadata": {},
   "source": [
    "If we try to start estimating stellar parameters before calculating the epoch, `astroPIPS` will not be able to properly calculate the stellar parameters. So we need to calculate the epoch offset."
   ]
  },
  {
   "cell_type": "code",
   "execution_count": 4,
   "id": "fatty-monitor",
   "metadata": {},
   "outputs": [
    {
     "name": "stdout",
     "output_type": "stream",
     "text": [
      "The epoch offset is 0.4212382475572452 days.\n"
     ]
    }
   ],
   "source": [
    "star.get_epoch_offset()\n",
    "\n",
    "print(\"The epoch offset is \" + str(star.epoch_offset) + \" days.\")"
   ]
  },
  {
   "cell_type": "markdown",
   "id": "reported-evolution",
   "metadata": {},
   "source": [
    "Now we can calculate stellar parameters! Let's do it. I recommend checking out the methods available first before actually calculating parameters. To use a predicted model, Create a model object from a photdata object. Here we are using the Cacciari2005 model. This model was implemented using equations from Cacciari et al. 2005, citings to all originally derived models are in the docstrings for each parameter estimation method."
   ]
  },
  {
   "cell_type": "code",
   "execution_count": 5,
   "id": "embedded-trance",
   "metadata": {
    "scrolled": false
   },
   "outputs": [],
   "source": [
    "Model = PIPS.Cacciari2005(star)"
   ]
  },
  {
   "cell_type": "code",
   "execution_count": 6,
   "id": "known-attraction",
   "metadata": {
    "scrolled": false
   },
   "outputs": [
    {
     "name": "stdout",
     "output_type": "stream",
     "text": [
      "Here we can see all the different methods for parameter estimation \n",
      "\n",
      "\n",
      "Help on class Cacciari2005 in module PIPS.class_StellarModels:\n",
      "\n",
      "class Cacciari2005(StellarModels)\n",
      " |  Cacciari2005(star)\n",
      " |  \n",
      " |  Subclass for StellarModels corresponding to Cacciari's paper from 2005,\n",
      " |  this paper is commonly referenced in the literature for RR Lyrae Stellar\n",
      " |  Parameter relationships. We denote the original author's relationship's in\n",
      " |  the form of method doc strings\n",
      " |  \n",
      " |  Method resolution order:\n",
      " |      Cacciari2005\n",
      " |      StellarModels\n",
      " |      builtins.object\n",
      " |  \n",
      " |  Methods defined here:\n",
      " |  \n",
      " |  calc_BV_0_ab(self)\n",
      " |      relationship empirically determined by Kovács & Walker (2001)\n",
      " |  \n",
      " |  calc_Fe_H_ab(self)\n",
      " |      relationship derived by Jurscik (1998)\n",
      " |  \n",
      " |  calc_Fe_H_c(self)\n",
      " |      relationship derived by Carretta & Gratton (1997)\n",
      " |  \n",
      " |  calc_M_v_ab(self)\n",
      " |      relationship derived by Kovács (2002)\n",
      " |  \n",
      " |  calc_M_v_c(self)\n",
      " |      relationship derived by Kovács (1998)\n",
      " |  \n",
      " |  calc_all_vals(self, star_type)\n",
      " |      \"This function returns none. It should add several traits to your StellarModel Object:\n",
      " |      \n",
      " |      TRAITS\n",
      " |      \n",
      " |      self.Fe_H\n",
      " |      self.BV_0 (RRab only)\n",
      " |      self.log_T_eff\n",
      " |      self.M_v\n",
      " |      self.log_L\n",
      " |      self.log_M\n",
      " |      self.Fe_H_err\n",
      " |      self.BV_0_err (RRab only)\n",
      " |      self.log_T_eff_err\n",
      " |      self.M_v_err\n",
      " |      self.log_L_err\n",
      " |      self.log_M_err\n",
      " |  \n",
      " |  calc_error_BV_0_ab(self)\n",
      " |  \n",
      " |  calc_error_Fe_H_ab(self)\n",
      " |  \n",
      " |  calc_error_Fe_H_c(self)\n",
      " |  \n",
      " |  calc_error_M_v_ab(self)\n",
      " |  \n",
      " |  calc_error_M_v_c(self)\n",
      " |  \n",
      " |  calc_error_log_L_ab(self)\n",
      " |  \n",
      " |  calc_error_log_L_c(self)\n",
      " |  \n",
      " |  calc_error_log_T_eff_type_ab(self)\n",
      " |  \n",
      " |  calc_error_log_T_eff_type_c(self)\n",
      " |  \n",
      " |  calc_error_log_mass_ab(self)\n",
      " |  \n",
      " |  calc_error_log_mass_c(self)\n",
      " |  \n",
      " |  calc_error_log_surface_gravity(self)\n",
      " |  \n",
      " |  calc_log_L_ab(self)\n",
      " |      Standard luminosity calculation using absolute magnitude.\n",
      " |      Absolute Magnitude of the Sun reported by Wilmer (2018)\n",
      " |  \n",
      " |  calc_log_L_c(self)\n",
      " |      Standard luminosity calculation using absolute magnitude.\n",
      " |      Absolute Magnitude of the Sun reported by Wilmer (2018)\n",
      " |  \n",
      " |  calc_log_T_eff_type_ab(self)\n",
      " |      relationship derived by Kovács & Walker (2001)\n",
      " |  \n",
      " |  calc_log_T_eff_type_c(self)\n",
      " |      relationship from Simon & Clement (1993)\n",
      " |  \n",
      " |  calc_log_mass_ab(self)\n",
      " |      Originally derived by Jurscik (1998)\n",
      " |  \n",
      " |  calc_log_mass_c(self)\n",
      " |      Derived by Simon & Clement (1993)\n",
      " |  \n",
      " |  calc_log_surface_gravity(self)\n",
      " |      Cited from Cacciari et al. (2005), standard surface gravity equation\n",
      " |  \n",
      " |  ----------------------------------------------------------------------\n",
      " |  Methods inherited from StellarModels:\n",
      " |  \n",
      " |  __init__(self, star)\n",
      " |      initialization function for StellarModels Super Class\n",
      " |  \n",
      " |  ----------------------------------------------------------------------\n",
      " |  Data descriptors inherited from StellarModels:\n",
      " |  \n",
      " |  __dict__\n",
      " |      dictionary for instance variables (if defined)\n",
      " |  \n",
      " |  __weakref__\n",
      " |      list of weak references to the object (if defined)\n",
      "\n"
     ]
    }
   ],
   "source": [
    "#We can see all implemented methods available to us by using help(PIPS.Cacciari2005)\n",
    "print(\"Here we can see all the different methods for parameter estimation \\n\\n\")\n",
    "help(PIPS.Cacciari2005)"
   ]
  },
  {
   "cell_type": "markdown",
   "id": "conscious-summary",
   "metadata": {},
   "source": [
    "Note, one can choose to pick certain stellar properties they want to calculate, by choosing from the list of methods. The typical naming structure is `calc_property_type()` or one can simply calculate all stellar properties with one line. "
   ]
  },
  {
   "cell_type": "code",
   "execution_count": 7,
   "id": "freelance-humidity",
   "metadata": {},
   "outputs": [],
   "source": [
    "#the sample data is of an RRab star\n",
    "Model.calc_all_vals(star_type='RRab')"
   ]
  },
  {
   "cell_type": "markdown",
   "id": "physical-reset",
   "metadata": {},
   "source": [
    "Similarly we can run `help()` again to see what properties have been calculated for our `Model` object. These properties are stored as object traits to the `Model` object."
   ]
  },
  {
   "cell_type": "code",
   "execution_count": 8,
   "id": "trained-knitting",
   "metadata": {},
   "outputs": [
    {
     "name": "stdout",
     "output_type": "stream",
     "text": [
      "Help on method calc_all_vals in module PIPS.class_StellarModels:\n",
      "\n",
      "calc_all_vals(star_type) method of PIPS.class_StellarModels.Cacciari2005 instance\n",
      "    \"This function returns none. It should add several traits to your StellarModel Object:\n",
      "    \n",
      "    TRAITS\n",
      "    \n",
      "    self.Fe_H\n",
      "    self.BV_0 (RRab only)\n",
      "    self.log_T_eff\n",
      "    self.M_v\n",
      "    self.log_L\n",
      "    self.log_M\n",
      "    self.Fe_H_err\n",
      "    self.BV_0_err (RRab only)\n",
      "    self.log_T_eff_err\n",
      "    self.M_v_err\n",
      "    self.log_L_err\n",
      "    self.log_M_err\n",
      "\n"
     ]
    }
   ],
   "source": [
    "help(Model.calc_all_vals)"
   ]
  },
  {
   "cell_type": "markdown",
   "id": "exact-velvet",
   "metadata": {},
   "source": [
    "Now we can access these traits:"
   ]
  },
  {
   "cell_type": "code",
   "execution_count": 9,
   "id": "vital-career",
   "metadata": {},
   "outputs": [
    {
     "name": "stdout",
     "output_type": "stream",
     "text": [
      "The metallicity of this star is -2.35203 +/- 0.12520\n",
      "The log(T_eff/[K]) of this star is 3.80587 +/- 0.00147\n",
      "The log(L/[L_sun]) of this star is 1.71139 +/- 0.00489\n",
      "The log(M/[M_sun]) of this star is -0.16330 +/- 0.01260\n"
     ]
    }
   ],
   "source": [
    "print(\"The metallicity of this star is {0:0.5f} +/- {1:0.5f}\".format(Model.Fe_H, Model.Fe_H_err))\n",
    "print(\"The log(T_eff/[K]) of this star is {0:0.5f} +/- {1:0.5f}\".format(Model.log_T_eff, Model.log_T_eff_err))\n",
    "print(\"The log(L/[L_sun]) of this star is {0:0.5f} +/- {1:0.5f}\".format(Model.log_L, Model.log_L_err))\n",
    "print(\"The log(M/[M_sun]) of this star is {0:0.5f} +/- {1:0.5f}\".format(Model.log_M, Model.log_M_err))"
   ]
  },
  {
   "cell_type": "markdown",
   "id": "meaning-character",
   "metadata": {},
   "source": [
    "There we have it. We have succesfully calculated the stellar properties of a RRab variable star. This can be done for an RRc star as well by modifying the `star_type` argument in the `Model.calc_all_vals()`method."
   ]
  },
  {
   "cell_type": "code",
   "execution_count": null,
   "id": "changed-catch",
   "metadata": {},
   "outputs": [],
   "source": []
  }
 ],
 "metadata": {
  "kernelspec": {
   "display_name": "Python 3",
   "language": "python",
   "name": "python3"
  },
  "language_info": {
   "codemirror_mode": {
    "name": "ipython",
    "version": 3
   },
   "file_extension": ".py",
   "mimetype": "text/x-python",
   "name": "python",
   "nbconvert_exporter": "python",
   "pygments_lexer": "ipython3",
   "version": "3.7.3"
  }
 },
 "nbformat": 4,
 "nbformat_minor": 5
}
