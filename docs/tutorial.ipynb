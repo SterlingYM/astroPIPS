{
 "cells": [
  {
   "cell_type": "markdown",
   "metadata": {},
   "source": [
    "# Tutorial\n",
    "\n",
    "PIPS contains various tools for time-series analysis in astronomy, with primary focus on detecting the period of variability. PIPS is objectively programmed, so that the analysis can be performed in a straightforward way.\n",
    "\n",
    "In this introductory tutorial, you will learn the quickest methods to do the following operations:\n",
    "\n",
    "- Installing PIPS\n",
    "- Initializing photometric data object --- ```PIPS.photdata```\n",
    "- Generating periodogram --- ```photdata.periodogram()```: basic & advanced\n",
    "- Detecting main period --- ```photdata.get_period()```: basic & advanced\n",
    "- Quick visualization --- ```photdata.get_bestfit_curve()```: basic\n",
    "- Multi-period analysis --- ```photdata.amplitude_spectrum()```: basic"
   ]
  },
  {
   "cell_type": "markdown",
   "metadata": {},
   "source": [
    "## Importing PIPS\n",
    "PIPS is currently distributed on PyPI and GitHub under the name of ```astroPIPS```. However, the package name itself is still under ```PIPS```, and hence the import statements becomes as shown below:"
   ]
  },
  {
   "cell_type": "code",
   "execution_count": 1,
   "metadata": {},
   "outputs": [],
   "source": [
    "import PIPS\n",
    "import matplotlib.pyplot as plt\n",
    "import numpy as np\n",
    "import warnings\n",
    "warnings.filterwarnings(action='ignore')"
   ]
  },
  {
   "cell_type": "code",
   "execution_count": 2,
   "metadata": {},
   "outputs": [
    {
     "output_type": "execute_result",
     "data": {
      "text/plain": [
       "'0.3.0-alpha.6'"
      ]
     },
     "metadata": {},
     "execution_count": 2
    }
   ],
   "source": [
    "PIPS.__version__"
   ]
  },
  {
   "cell_type": "markdown",
   "metadata": {},
   "source": [
    "## Before you start -- sneak peek at PIPS in 10 lines\n",
    "Photometry data to phase-folded light curve -- This is what you can do with PIPS in 10 lines of code!"
   ]
  },
  {
   "cell_type": "code",
   "execution_count": 2,
   "metadata": {},
   "outputs": [],
   "source": [
    "# preparation\n",
    "data = PIPS.data_readin_LPP('../sample_data/005.dat',filter='V')\n",
    "star = PIPS.photdata(data)\n",
    "\n",
    "# automatic period detection\n",
    "star.get_period()\n",
    "\n",
    "# phase-folded data plot & best-fit curve generation & epoch detection\n",
    "star.plot_lc()\n",
    "x_th,y_th = star.get_bestfit_curve()\n",
    "epoch_offset = star.get_epoch_offset()\n",
    "\n",
    "# plot\n",
    "plt.plot(x_th/star.period,y_th,c='yellowgreen',lw=3,alpha=0.7)\n",
    "plt.plot(x_th/star.period+1,y_th,c='yellowgreen',lw=3,alpha=0.7)\n",
    "plt.axvline(epoch_offset/star.period,color='red')\n",
    "plt.axvline(epoch_offset/star.period+1,color='red');\n",
    "\n",
    "#### if you are okay with exceeding 10 lines... uncomment below ####\n",
    "# plt.xlabel('phase')\n",
    "# plt.ylabel('mag')\n",
    "# plt.show()"
   ]
  },
  {
   "cell_type": "markdown",
   "metadata": {},
   "source": [
    "PIPS is designed so that it can be as simple as this for basic analyses, but at the same time PIPS provides a powerful platform for more high-level analysis for professional astronomers. In the tutorial below, we go over the basic steps to perform some of the most frequent operations and analyses."
   ]
  },
  {
   "cell_type": "markdown",
   "metadata": {},
   "source": [
    "## Data preparation\n",
    "\n",
    "PIPS takes in an array of 3xN data (samples are available on [github]('https://github.com/SterlingYM/astroPIPS/tree/master/sample_data')) -- time, magnitude (flux), and error on magnitude contained in a single python list or numpy array.\n",
    "For convenience, photometry data file from [LOSSPhotPipeline]('https://github.com/benstahl92/LOSSPhotPipeline') can be directly imported using a helper function ```data_readin_LPP```."
   ]
  },
  {
   "cell_type": "code",
   "execution_count": 3,
   "metadata": {},
   "outputs": [
    {
     "output_type": "stream",
     "name": "stdout",
     "text": [
      "data shape:\t (3, 103)\nx shape:\t (103,)\ny shape:\t (103,)\ny-error shape:\t (103,)\n"
     ]
    }
   ],
   "source": [
    "data = PIPS.data_readin_LPP('../sample_data/005.dat',filter='V')\n",
    "x,y,yerr = data\n",
    "print('data shape:\\t',np.array(data).shape)\n",
    "print('x shape:\\t',x.shape)\n",
    "print('y shape:\\t',y.shape)\n",
    "print('y-error shape:\\t',yerr.shape)"
   ]
  },
  {
   "cell_type": "markdown",
   "metadata": {
    "heading_collapsed": true
   },
   "source": [
    "## Create ```photdata``` object\n",
    "\n",
    "Most of the functions in ```astroPIPS``` is implemented as methods in ```photdata``` object. Once the ```photdata``` object is initialized, various operations, such as period detection and data manipulation, can be done directly to the object."
   ]
  },
  {
   "cell_type": "code",
   "execution_count": 4,
   "metadata": {
    "hidden": true
   },
   "outputs": [],
   "source": [
    "star = PIPS.photdata(data)"
   ]
  },
  {
   "cell_type": "markdown",
   "metadata": {
    "hidden": true
   },
   "source": [
    "This object initially contains raw data, and as the user performs analyses using various functions, more information, such as cleaned data, period, or amplitude, will be stored.\n",
    "\n",
    "The list of variables in the object can be printed with the following code:"
   ]
  },
  {
   "cell_type": "code",
   "execution_count": null,
   "metadata": {
    "hidden": true
   },
   "outputs": [],
   "source": [
    "print('Initially defined variables: ')\n",
    "# for att in dir(star): print('- ',att) )\n",
    "[print('- '+att) for att in dir(star) if not callable(getattr(star, att)) and not att.startswith('__')];\n",
    "\n",
    "print('\\nAvailable functions: ')\n",
    "[print('- '+att+'()') for att in dir(star) if callable(getattr(star, att)) and not att.startswith('__')];"
   ]
  },
  {
   "cell_type": "markdown",
   "metadata": {
    "hidden": true
   },
   "source": [
    "It is always a good idea to keep track of the name and photometric band of the object. \n",
    "For instance, the name of data file can be used as a label:"
   ]
  },
  {
   "cell_type": "code",
   "execution_count": null,
   "metadata": {
    "hidden": true
   },
   "outputs": [],
   "source": [
    "star.label = '005.dat'\n",
    "star.band  = 'V'"
   ]
  },
  {
   "cell_type": "markdown",
   "metadata": {},
   "source": [
    "## Generating periodogram\n",
    "```periodogram()``` function provides the most basic yet most valuable information on variability analysis. This is an extended application of Fourier transform in the period space (1/frequency). This function requires arguments ```p_min``` and ```p_max```, which limits the range of periodogram (hence period search). The unit has to be the same (often _days_ in astronomy) as the x-axis in the input data."
   ]
  },
  {
   "cell_type": "markdown",
   "metadata": {},
   "source": [
    "### basic method\n",
    "Most simply, users can call ```periods,power = star.periodogram(p_min,p_max)``` and plot the results to generate periodogram. A slightly fancier way to plot is shown below.\n",
    "\n",
    "A few things to note:\n",
    "- This function shouldn't take more than a few seconds to run. If no result is returned, it may be because your platform does not support ```multiprocessing``` operation, in which case we recommend adding another argument ```multiprocessing=False``` to ```periodogram()``` function call.\n",
    "- If no ```p_min``` or ```p_max``` is given, periodogram is generated between 0.1 and 4 (days if your data is in days)."
   ]
  },
  {
   "cell_type": "code",
   "execution_count": null,
   "metadata": {},
   "outputs": [],
   "source": [
    "def plot_periodogram(periods,power):\n",
    "    '''plot helper'''\n",
    "    plt.figure(figsize=(15,3));\n",
    "    plt.plot(periods,power);\n",
    "    plt.fill_between(periods,0,power);\n",
    "    plt.xlabel('period');\n",
    "    plt.xlim(periods.min(),periods.max());\n",
    "    plt.ylim(0,1);\n",
    "    plt.axvline(periods[power==power.max()],c='orange',lw=5,zorder=0);\n",
    "    plt.show()\n",
    "    print('Peak signal in periodogram: ',periods[power==power.max()],' day')"
   ]
  },
  {
   "cell_type": "code",
   "execution_count": null,
   "metadata": {},
   "outputs": [],
   "source": [
    "# periodogram: searching the period between 0.1-day and 1-day\n",
    "periods,power = star.periodogram(p_min=0.1,p_max=1.0)\n",
    "\n",
    "# plot\n",
    "plot_periodogram(periods,power)"
   ]
  },
  {
   "cell_type": "markdown",
   "metadata": {
    "heading_collapsed": true
   },
   "source": [
    "### More advanced method\n",
    "By default, ```periodogram``` function uses 5-term Fourier model, for which a linear algebra-based faster method is available. <br>\n",
    "For instance, the basic method shown above is equivalent to calling <br>\n",
    "```periodogram(p_min=0.1, p_max=1.0, method='fast', model='Fourier', Nterms=5)```.\n",
    "\n",
    "Users can change the template model based on the expected shape of light curve. Another pre-implemented function is Gaussian Mixture Model (GMM), which can be specified by changing the ```model``` argument:<br>\n",
    "```periodogram(p_min=0.1, p_max=1.0, method='custom', model='Gaussian', Nterms=5)```.<br>\n",
    "Since GMM is integrated with Super-Gaussian function in PIPS, users gan give another argument ```p```, which changes the power parameter in Super-Gaussian.\n",
    "\n",
    "Note the change in ```method``` argument as well: while we implemented Gaussian fitting in log-linear form (```method='fast'```), the resulting fit is often erraneous and thus linear regression (```method='custom'```) is preferred for Gaussian model. More discussion on this topic can be found in our paper.\n",
    "\n",
    "We internally use ```scipy.optimize.curve_fit()``` for linear regression. Since this is significantly slower than linear-algebra method, we recommend users to try finding the optimal maximum iteration by changing ```maxfev``` argument as shown below."
   ]
  },
  {
   "cell_type": "code",
   "execution_count": 47,
   "metadata": {
    "hidden": true,
    "tags": []
   },
   "outputs": [
    {
     "data": {
      "image/png": "[encoded data removed]",
      "text/plain": [
       "<Figure size 1080x216 with 1 Axes>"
      ]
     },
     "metadata": {
      "needs_background": "light"
     },
     "output_type": "display_data"
    },
    {
     "name": "stdout",
     "output_type": "stream",
     "text": [
      "Peak signal in periodogram:  [0.57478914]  day\n"
     ]
    }
   ],
   "source": [
    "# periodogram test w/ Gaussian\n",
    "periods,power = star.periodogram(p_min=0.1,p_max=1,                ## period search range\n",
    "                                 method='custom',model='Gaussian', ## model selection\n",
    "                                 Nterms=1, p=1,                    ## arguments for the model\n",
    "                                 maxfev=100                        ## max iteration in linear regression\n",
    "                                )\n",
    "\n",
    "# plot\n",
    "plot_periodogram(periods,power)"
   ]
  },
  {
   "cell_type": "markdown",
   "metadata": {},
   "source": [
    "### Using your own custom function\n",
    "Users can use any custom function as a model to be used in periodogram.\n",
    "The model must be accompanied by initial-guess generator (```p0_func```), both of which needs to take speficic format in the argument.\n",
    "See the function docstrings below."
   ]
  },
  {
   "cell_type": "code",
   "execution_count": 5,
   "metadata": {},
   "outputs": [],
   "source": [
    "### define custom functions\n",
    "from numba import njit\n",
    "@njit\n",
    "\n",
    "def polynomial(x,period,params,arg1,arg2=2):\n",
    "    '''\n",
    "    An example custom function (model). \n",
    "    Any custom function must take the arguments (x,period,params),\n",
    "    and users can add as many fixed (not fitted) arguments as needed.\n",
    "    \n",
    "    In this function, users can define the exponent in the polynomial\n",
    "    by providing arg1 and arg2.\n",
    "    '''\n",
    "    mod = np.remainder(x,period)\n",
    "    return params[0] + params[1]*(mod-params[3])**arg1 + params[2]*(mod-params[4])**arg2\n",
    "\n",
    "def poly_p0(x,y,yerr,period,**kwargs):\n",
    "    '''\n",
    "    An example of initial-guess generator (p0_func).\n",
    "    Any p0_func must take the argments (x,y,yerr,period,**kwargs).\n",
    "    The output array or list must be in the same shape as \"params\" in the model functon.\n",
    "    '''\n",
    "    return [np.mean(y),1,1,period/2,period/2]"
   ]
  },
  {
   "cell_type": "code",
   "execution_count": 12,
   "metadata": {},
   "outputs": [
    {
     "data": {
      "image/png": "[encoded data removed]",
      "text/plain": [
       "<Figure size 1080x216 with 1 Axes>"
      ]
     },
     "metadata": {
      "needs_background": "light"
     },
     "output_type": "display_data"
    },
    {
     "name": "stdout",
     "output_type": "stream",
     "text": [
      "Peak signal in periodogram:  [0.69731154]  day\n"
     ]
    }
   ],
   "source": [
    "### generate periodogram with the custom function\n",
    "periods,power = star.periodogram(\n",
    "                    p_min=0.1, p_max=1,   ## period search between 0.1 to 1 day\n",
    "                    method  ='custom',    ## for any custom function this argument needs to be given\n",
    "                    model   = polynomial, ## now you can pass the function itself!\n",
    "                    p0_func = poly_p0,    ## initial-guess generator function must be given as well\n",
    "                    arg1    = 1,          ## users MUST specify arguments if not default is speficied\n",
    "                    arg2    = 4,          ## since arg2=2 is speficified by default, this is optional\n",
    "                    maxfev  = 100         ## start with small maxfev and increase later\n",
    "                    )\n",
    "\n",
    "# plot\n",
    "plot_periodogram(periods,power)"
   ]
  },
  {
   "cell_type": "markdown",
   "metadata": {},
   "source": [
    "## Period detection\n",
    "Period detection function utilizes ```periodogram()``` and automatically detects the peak. The periodogram is then refined near the detected peak for accurate period detection. This is followed by linear regression to estimate the uncertainty of detected period.\n",
    "\n",
    "A few things to note:\n",
    "- ```photdata.get_period()``` function by default uses 5-term Fourier model.\n",
    "- Users can simply run the function without any arguments to search period between 0.1-4.0 (days).\n",
    "- Detected period and period error is stored in ```photdata.period``` and ```photdata.period_err```.\n",
    "- This function also returns period and period error."
   ]
  },
  {
   "cell_type": "markdown",
   "metadata": {},
   "source": [
    "### Basic method"
   ]
  },
  {
   "cell_type": "code",
   "execution_count": 7,
   "metadata": {},
   "outputs": [
    {
     "name": "stdout",
     "output_type": "stream",
     "text": [
      "0.6968874975991536 2.285123956532907e-05\n"
     ]
    }
   ],
   "source": [
    "star.get_period(); # no argument -> 5-term Fourier, searches period between 0.1-4 day\n",
    "print(star.period, star.period_err)"
   ]
  },
  {
   "cell_type": "code",
   "execution_count": 8,
   "metadata": {},
   "outputs": [
    {
     "name": "stdout",
     "output_type": "stream",
     "text": [
      "0.000s --- starting the process...\n",
      "0.000s --- preparing data...\n",
      "0.000s --- getting a periodogram...\n",
      "0.509s --- detecting top 5 peaks...\n",
      "0.510s --- preparing for finer sampling near peaks...\n",
      "0.511s --- performing finer sampling near peaks...\n",
      "0.916s --- period candidate:  0.6968767193610299\n",
      "0.930s --- detecting aliasing...\n",
      "0.930s --- alias factor:  1\n",
      "0.931s --- period candidate:  0.6968767193610299\n",
      "0.932s --- estimating the uncertainty...\n",
      "0.947s --- period candidate:  0.6968767193610299\n",
      "0.947s --- period fitted*:  0.6968786839335414\n",
      "0.947s --- period error:  2.2667570909410562e-05\n",
      "0.947s --- refining samples...\n",
      "0.948s --- refining search width = 6.588e-04\n",
      "1.315s --- period candidate:  0.6968899220719549\n",
      "1.316s --- period fitted*:  0.6968946264691298\n",
      "1.316s --- period error:  2.285551532900411e-05\n",
      "1.316s --- * validating period error...\n",
      "1.316s --- * fitted period - peak period = 4.70e-06\n",
      "1.316s --- * expected deviation size = 2.29e-05\n",
      "1.316s --- * period error validated\n",
      "1.316s --- period = 0.696890 +- 0.000023d\n",
      "1.316s --- process completed.\n",
      "0.6968899220719549 2.285551532900411e-05\n"
     ]
    }
   ],
   "source": [
    "period,period_err = star.get_period(p_min=0.1,p_max=1,debug=True) # debug option enables the progress printing\n",
    "print(period,period_err)"
   ]
  },
  {
   "cell_type": "markdown",
   "metadata": {},
   "source": [
    "### Advanced method\n",
    "Since ```get_period()``` internally calls ```periodogram()``` function, any arguments that change the setting for ```periodogram()``` can be applied. For example, users can change the model:"
   ]
  },
  {
   "cell_type": "code",
   "execution_count": 9,
   "metadata": {},
   "outputs": [
    {
     "data": {
      "text/plain": [
       "(0.6968732145413092, 0.0001262175730778084)"
      ]
     },
     "execution_count": 9,
     "metadata": {},
     "output_type": "execute_result"
    }
   ],
   "source": [
    "star.get_period(p_min=0.1,p_max=1.0,method='custom',model='Gaussian')"
   ]
  },
  {
   "cell_type": "markdown",
   "metadata": {},
   "source": [
    "Similarly, any custom model can be implemented:"
   ]
  },
  {
   "cell_type": "code",
   "execution_count": 7,
   "metadata": {},
   "outputs": [
    {
     "output_type": "stream",
     "name": "stdout",
     "text": [
      "warning: provided uncertainty may not be accurate. Try increasing sampling size (N_peak_test, default 500) and/or turn on the force_refine option.\n"
     ]
    },
    {
     "output_type": "execute_result",
     "data": {
      "text/plain": [
       "(0.6969893983974487, 1.8461033093986469e-09)"
      ]
     },
     "metadata": {},
     "execution_count": 7
    }
   ],
   "source": [
    "star.get_period(p_min=0.1, p_max=1.0, \n",
    "                method='custom',\n",
    "                model=polynomial, \n",
    "                p0_func=poly_p0,\n",
    "                arg1 = 1,\n",
    "                arg2 = 4,\n",
    "                multiprocessing=False)"
   ]
  },
  {
   "cell_type": "markdown",
   "metadata": {},
   "source": [
    "## Visualization\n",
    "\n",
    "PIPS provides a tool for easy plotting with ```plot_lc()```. This function automatically uses the most recently updated period value in ```photdata``` and returns phase-folded data. There is also an easy way to overplot the best-fit model at the period using ```get_bestfit_curve()``` function. Like many other functions in ```photdata```, users can specify the model and other parameters.\n",
    "\n",
    "In addition, ```get_epoch_offset()``` returns the time of maxima offset in phase-folded data (in units of original x-axis: not normalized to unitless phase) and enables easy offsetting / visualization of epoch."
   ]
  },
  {
   "cell_type": "code",
   "execution_count": 19,
   "metadata": {},
   "outputs": [
    {
     "data": {
      "text/plain": [
       "<matplotlib.lines.Line2D at 0x7f52e36b1dd0>"
      ]
     },
     "execution_count": 19,
     "metadata": {},
     "output_type": "execute_result"
    },
    {
     "data": {
      "image/png": "[encoded data removed]",
      "text/plain": [
       "<Figure size 576x288 with 1 Axes>"
      ]
     },
     "metadata": {
      "needs_background": "light"
     },
     "output_type": "display_data"
    }
   ],
   "source": [
    "# detect period\n",
    "star.get_period()\n",
    "\n",
    "# phase-folded plot\n",
    "star.plot_lc() # plots (x%period, y) scatter: normalized to phase\n",
    "x_th,y_th = star.get_bestfit_curve()\n",
    "epoch_offset = star.get_epoch_offset() # the epoch offset in the unit of [days] (not normalized to phase)\n",
    "\n",
    "# plot\n",
    "plt.plot(x_th/star.period,y_th,c='yellowgreen',lw=3,alpha=0.7)\n",
    "plt.plot(x_th/star.period+1,y_th,c='yellowgreen',lw=3,alpha=0.7)\n",
    "plt.axvline(epoch_offset/star.period,color='red')\n",
    "plt.axvline(epoch_offset/star.period+1,color='red')"
   ]
  },
  {
   "cell_type": "code",
   "execution_count": 18,
   "metadata": {},
   "outputs": [
    {
     "data": {
      "text/plain": [
       "[<matplotlib.lines.Line2D at 0x7f52e33e5f50>]"
      ]
     },
     "execution_count": 18,
     "metadata": {},
     "output_type": "execute_result"
    },
    {
     "data": {
      "image/png": "[encoded data removed]",
      "text/plain": [
       "<Figure size 576x288 with 1 Axes>"
      ]
     },
     "metadata": {
      "needs_background": "light"
     },
     "output_type": "display_data"
    }
   ],
   "source": [
    "# get period with Gaussian model\n",
    "p_Gaussian,p_err_Gaussian = star.get_period(p_min=0.1,p_max=1.0,method='custom',model='Gaussian')\n",
    "\n",
    "# auto plot at specified period\n",
    "star.plot_lc(period=p_Gaussian)\n",
    "x_th,y_th = star.get_bestfit_curve(period=p_Gaussian,model='Gaussian',Nterms=1,p=1,maxfev=1000000)\n",
    "\n",
    "# plot\n",
    "plt.plot(x_th/star.period,y_th,c='yellowgreen',lw=3,alpha=0.7)\n",
    "plt.plot(x_th/star.period+1,y_th,c='yellowgreen',lw=3,alpha=0.7)"
   ]
  },
  {
   "cell_type": "markdown",
   "metadata": {},
   "source": [
    "## Multi-period detection\n",
    "When the object is expected to have more than one period (e.g., double-mode pulsator or variable binaries), the light curve can be a superposition of periodic variation at two or more periods. PIPS can automatically generate the amplitude spectrum of multi-periodic objects.\n",
    "\n",
    "When ```get_period_multi``` is called, it returns the detected period and amplitude of top ```N``` periods. ```amplitude_spectrum``` internally calls it and generates the amplitude spectrum. It should be noted that, however, PIPS forces the detection, even if the signal is just one of the tallest spikes in the background noise and not the real period."
   ]
  },
  {
   "cell_type": "code",
   "execution_count": 8,
   "metadata": {},
   "outputs": [
    {
     "name": "stdout",
     "output_type": "stream",
     "text": [
      "warning: provided uncertainty may not be accurate. Try increasing sampling size (N_peak_test, default 500) and/or turn on the force_refine option.\n",
      "warning: error size infinity: replacing with periodogram peak width\n",
      "warning: provided uncertainty may not be accurate. Try increasing sampling size (N_peak_test, default 500) and/or turn on the force_refine option.\n",
      "warning: error size infinity: replacing with periodogram peak width\n",
      "warning: provided uncertainty may not be accurate. Try increasing sampling size (N_peak_test, default 500) and/or turn on the force_refine option.\n",
      "warning: error size infinity: replacing with periodogram peak width\n",
      "warning: provided uncertainty may not be accurate. Try increasing sampling size (N_peak_test, default 500) and/or turn on the force_refine option.\n",
      "warning: error size infinity: replacing with periodogram peak width\n",
      "warning: provided uncertainty may not be accurate. Try increasing sampling size (N_peak_test, default 500) and/or turn on the force_refine option.\n",
      "warning: error size infinity: replacing with periodogram peak width\n"
     ]
    },
    {
     "data": {
      "image/png": "[encoded data removed]",
      "text/plain": [
       "<Figure size 720x216 with 1 Axes>"
      ]
     },
     "metadata": {
      "needs_background": "light"
     },
     "output_type": "display_data"
    }
   ],
   "source": [
    "# multi-period detection\n",
    "period,spectrum = star.amplitude_spectrum(p_min=0.1,p_max=0.9,N=10,multiprocessing=False)\n",
    "\n",
    "plt.figure(figsize=(10,3))\n",
    "plt.plot(period,spectrum)\n",
    "plt.xlim(0.1,0.9)\n",
    "plt.xlabel('period (d)')\n",
    "plt.ylabel('amplitude (mag)')\n",
    "plt.show()"
   ]
  },
  {
   "cell_type": "code",
   "execution_count": null,
   "metadata": {},
   "outputs": [],
   "source": []
  }
 ],
 "metadata": {
  "kernelspec": {
   "name": "python374jvsc74a57bd09c834be9ae4e1ec097f07ec0ac2ab6d3f5df9a244a8ac8a151813e301e4b1bb5",
   "display_name": "Python 3.7.4 64-bit ('base': conda)"
  },
  "language_info": {
   "codemirror_mode": {
    "name": "ipython",
    "version": 3
   },
   "file_extension": ".py",
   "mimetype": "text/x-python",
   "name": "python",
   "nbconvert_exporter": "python",
   "pygments_lexer": "ipython3",
   "version": "3.7.4"
  },
  "varInspector": {
   "cols": {
    "lenName": 16,
    "lenType": 16,
    "lenVar": 40
   },
   "kernels_config": {
    "python": {
     "delete_cmd_postfix": "",
     "delete_cmd_prefix": "del ",
     "library": "var_list.py",
     "varRefreshCmd": "print(var_dic_list())"
    },
    "r": {
     "delete_cmd_postfix": ") ",
     "delete_cmd_prefix": "rm(",
     "library": "var_list.r",
     "varRefreshCmd": "cat(var_dic_list()) "
    }
   },
   "types_to_exclude": [
    "module",
    "function",
    "builtin_function_or_method",
    "instance",
    "_Feature"
   ],
   "window_display": false
  }
 },
 "nbformat": 4,
 "nbformat_minor": 4
}